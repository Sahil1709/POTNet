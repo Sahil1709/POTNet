{
 "cells": [
  {
   "cell_type": "code",
   "execution_count": 1,
   "metadata": {},
   "outputs": [
    {
     "name": "stderr",
     "output_type": "stream",
     "text": [
      "2025-04-25 12:17:00.698708: E external/local_xla/xla/stream_executor/cuda/cuda_fft.cc:467] Unable to register cuFFT factory: Attempting to register factory for plugin cuFFT when one has already been registered\n",
      "WARNING: All log messages before absl::InitializeLog() is called are written to STDERR\n",
      "E0000 00:00:1745608620.720002   51764 cuda_dnn.cc:8579] Unable to register cuDNN factory: Attempting to register factory for plugin cuDNN when one has already been registered\n",
      "E0000 00:00:1745608620.726629   51764 cuda_blas.cc:1407] Unable to register cuBLAS factory: Attempting to register factory for plugin cuBLAS when one has already been registered\n",
      "W0000 00:00:1745608620.743095   51764 computation_placer.cc:177] computation placer already registered. Please check linkage and avoid linking the same target more than once.\n",
      "W0000 00:00:1745608620.743116   51764 computation_placer.cc:177] computation placer already registered. Please check linkage and avoid linking the same target more than once.\n",
      "W0000 00:00:1745608620.743119   51764 computation_placer.cc:177] computation placer already registered. Please check linkage and avoid linking the same target more than once.\n",
      "W0000 00:00:1745608620.743121   51764 computation_placer.cc:177] computation placer already registered. Please check linkage and avoid linking the same target more than once.\n",
      "2025-04-25 12:17:00.748307: I tensorflow/core/platform/cpu_feature_guard.cc:210] This TensorFlow binary is optimized to use available CPU instructions in performance-critical operations.\n",
      "To enable the following instructions: AVX2 AVX512F FMA, in other operations, rebuild TensorFlow with the appropriate compiler flags.\n"
     ]
    }
   ],
   "source": [
    "import pandas as pd\n",
    "import numpy as np\n",
    "import smote_variants as sv\n",
    "from potnet import *"
   ]
  },
  {
   "cell_type": "code",
   "execution_count": null,
   "metadata": {},
   "outputs": [
    {
     "data": {
      "text/plain": [
       "downloads_category\n",
       "Very Low    867608\n",
       "Low         271614\n",
       "Mid          37247\n",
       "High         15166\n",
       "Name: count, dtype: int64"
      ]
     },
     "execution_count": 13,
     "metadata": {},
     "output_type": "execute_result"
    }
   ],
   "source": [
    "df = pd.read_csv('data/hf_models_withmodelcard_nov2024.csv')\n",
    "df.downloads_category.value_counts()    "
   ]
  },
  {
   "cell_type": "code",
   "execution_count": 14,
   "metadata": {},
   "outputs": [],
   "source": [
    "df_high = df[df.downloads_category == 'High']\n",
    "df_low = df[df.downloads_category == 'Low']\n",
    "df_mid = df[df.downloads_category == 'Mid']\n",
    "df_high.to_csv('data/high_downloads.csv', index=False)\n",
    "df_low.to_csv('data/low_downloads.csv', index=False)\n",
    "df_mid.to_csv('data/mid_downloads.csv', index=False)"
   ]
  },
  {
   "cell_type": "code",
   "execution_count": 8,
   "metadata": {},
   "outputs": [],
   "source": [
    "num_samples = 100000\n",
    "gen_data = hf_potnet_model_v3.generate(num_samples)"
   ]
  },
  {
   "cell_type": "code",
   "execution_count": 9,
   "metadata": {},
   "outputs": [
    {
     "data": {
      "text/html": [
       "<div>\n",
       "<style scoped>\n",
       "    .dataframe tbody tr th:only-of-type {\n",
       "        vertical-align: middle;\n",
       "    }\n",
       "\n",
       "    .dataframe tbody tr th {\n",
       "        vertical-align: top;\n",
       "    }\n",
       "\n",
       "    .dataframe thead th {\n",
       "        text-align: right;\n",
       "    }\n",
       "</style>\n",
       "<table border=\"1\" class=\"dataframe\">\n",
       "  <thead>\n",
       "    <tr style=\"text-align: right;\">\n",
       "      <th></th>\n",
       "      <th>task_group</th>\n",
       "      <th>author_category</th>\n",
       "      <th>language_category</th>\n",
       "      <th>downloads_category</th>\n",
       "      <th>location</th>\n",
       "    </tr>\n",
       "  </thead>\n",
       "  <tbody>\n",
       "    <tr>\n",
       "      <th>0</th>\n",
       "      <td>Text Processing</td>\n",
       "      <td>Silver</td>\n",
       "      <td>High</td>\n",
       "      <td>Very high</td>\n",
       "      <td>us</td>\n",
       "    </tr>\n",
       "    <tr>\n",
       "      <th>1</th>\n",
       "      <td>Image Processing</td>\n",
       "      <td>Gold</td>\n",
       "      <td>High</td>\n",
       "      <td>Very high</td>\n",
       "      <td>us</td>\n",
       "    </tr>\n",
       "    <tr>\n",
       "      <th>2</th>\n",
       "      <td>Text Processing</td>\n",
       "      <td>Silver</td>\n",
       "      <td>High</td>\n",
       "      <td>Very high</td>\n",
       "      <td>us</td>\n",
       "    </tr>\n",
       "    <tr>\n",
       "      <th>3</th>\n",
       "      <td>Text Processing</td>\n",
       "      <td>Silver</td>\n",
       "      <td>High</td>\n",
       "      <td>Very high</td>\n",
       "      <td>us</td>\n",
       "    </tr>\n",
       "    <tr>\n",
       "      <th>4</th>\n",
       "      <td>Image Processing</td>\n",
       "      <td>Gold</td>\n",
       "      <td>High</td>\n",
       "      <td>Very high</td>\n",
       "      <td>us</td>\n",
       "    </tr>\n",
       "    <tr>\n",
       "      <th>...</th>\n",
       "      <td>...</td>\n",
       "      <td>...</td>\n",
       "      <td>...</td>\n",
       "      <td>...</td>\n",
       "      <td>...</td>\n",
       "    </tr>\n",
       "    <tr>\n",
       "      <th>99995</th>\n",
       "      <td>Image Processing</td>\n",
       "      <td>Gold</td>\n",
       "      <td>High</td>\n",
       "      <td>Very high</td>\n",
       "      <td>us</td>\n",
       "    </tr>\n",
       "    <tr>\n",
       "      <th>99996</th>\n",
       "      <td>Unknown</td>\n",
       "      <td>Gold</td>\n",
       "      <td>High</td>\n",
       "      <td>Very high</td>\n",
       "      <td>us</td>\n",
       "    </tr>\n",
       "    <tr>\n",
       "      <th>99997</th>\n",
       "      <td>Image Processing</td>\n",
       "      <td>Gold</td>\n",
       "      <td>High</td>\n",
       "      <td>Very high</td>\n",
       "      <td>us</td>\n",
       "    </tr>\n",
       "    <tr>\n",
       "      <th>99998</th>\n",
       "      <td>Text Processing</td>\n",
       "      <td>Gold</td>\n",
       "      <td>High</td>\n",
       "      <td>Very high</td>\n",
       "      <td>us</td>\n",
       "    </tr>\n",
       "    <tr>\n",
       "      <th>99999</th>\n",
       "      <td>Image Processing</td>\n",
       "      <td>Gold</td>\n",
       "      <td>High</td>\n",
       "      <td>Very high</td>\n",
       "      <td>us</td>\n",
       "    </tr>\n",
       "  </tbody>\n",
       "</table>\n",
       "<p>100000 rows × 5 columns</p>\n",
       "</div>"
      ],
      "text/plain": [
       "             task_group author_category language_category downloads_category  \\\n",
       "0       Text Processing          Silver              High          Very high   \n",
       "1      Image Processing            Gold              High          Very high   \n",
       "2       Text Processing          Silver              High          Very high   \n",
       "3       Text Processing          Silver              High          Very high   \n",
       "4      Image Processing            Gold              High          Very high   \n",
       "...                 ...             ...               ...                ...   \n",
       "99995  Image Processing            Gold              High          Very high   \n",
       "99996           Unknown            Gold              High          Very high   \n",
       "99997  Image Processing            Gold              High          Very high   \n",
       "99998   Text Processing            Gold              High          Very high   \n",
       "99999  Image Processing            Gold              High          Very high   \n",
       "\n",
       "      location  \n",
       "0           us  \n",
       "1           us  \n",
       "2           us  \n",
       "3           us  \n",
       "4           us  \n",
       "...        ...  \n",
       "99995       us  \n",
       "99996       us  \n",
       "99997       us  \n",
       "99998       us  \n",
       "99999       us  \n",
       "\n",
       "[100000 rows x 5 columns]"
      ]
     },
     "execution_count": 9,
     "metadata": {},
     "output_type": "execute_result"
    }
   ],
   "source": [
    "gen_data"
   ]
  },
  {
   "cell_type": "code",
   "execution_count": 10,
   "metadata": {},
   "outputs": [
    {
     "data": {
      "text/plain": [
       "task_group\n",
       "Text Processing     72219\n",
       "Unknown             17335\n",
       "Image Processing    10446\n",
       "Name: count, dtype: int64"
      ]
     },
     "execution_count": 10,
     "metadata": {},
     "output_type": "execute_result"
    }
   ],
   "source": [
    "gen_data.task_group.value_counts()"
   ]
  },
  {
   "cell_type": "code",
   "execution_count": 30,
   "metadata": {},
   "outputs": [],
   "source": [
    "import matplotlib.pyplot as plt\n",
    "import seaborn as sns\n",
    "import pandas as pd\n",
    "\n",
    "def create_distrib(df):\n",
    "    print(df.downloads_category.value_counts())\n",
    "    # Create a count plot\n",
    "    plt.figure(figsize=(14, 8))\n",
    "    sns.set_theme(style=\"whitegrid\")\n",
    "\n",
    "    # Create grouped bar chart\n",
    "    ax = sns.countplot(\n",
    "        x=\"task_group\",\n",
    "        hue=\"downloads_category\",\n",
    "        data=df,\n",
    "        order=df['task_group'].value_counts().index,\n",
    "        palette=\"viridis\"\n",
    "    )\n",
    "\n",
    "    # Customize plot\n",
    "    plt.title(\"Distribution of Download Categories Across Task Groups\", fontsize=16, pad=20)\n",
    "    plt.xlabel(\"Task Group\", fontsize=12)\n",
    "    plt.ylabel(\"Count of Models\", fontsize=12)\n",
    "    plt.xticks(rotation=45, ha=\"right\")\n",
    "\n",
    "    # Add percentage annotations\n",
    "    total = len(df)\n",
    "    for p in ax.patches:\n",
    "        height = p.get_height()\n",
    "        ax.text(p.get_x() + p.get_width()/2., height + 3,\n",
    "                f'{height/total:.1%}',\n",
    "                ha=\"center\", fontsize=9)\n",
    "\n",
    "    plt.legend(title=\"Download Category\", bbox_to_anchor=(1.05, 1), loc='upper left')\n",
    "    plt.tight_layout()\n",
    "    plt.show()"
   ]
  },
  {
   "cell_type": "code",
   "execution_count": 31,
   "metadata": {},
   "outputs": [
    {
     "name": "stdout",
     "output_type": "stream",
     "text": [
      "downloads_category\n",
      "Very high    8271\n",
      "Name: count, dtype: int64\n"
     ]
    },
    {
     "data": {
      "image/png": "[encoded data removed]",
      "text/plain": [
       "<Figure size 1400x800 with 1 Axes>"
      ]
     },
     "metadata": {},
     "output_type": "display_data"
    }
   ],
   "source": [
    "create_distrib(gen_data)"
   ]
  },
  {
   "cell_type": "code",
   "execution_count": 32,
   "metadata": {},
   "outputs": [
    {
     "name": "stdout",
     "output_type": "stream",
     "text": [
      "downloads_category\n",
      "Very high    8271\n",
      "Name: count, dtype: int64\n"
     ]
    },
    {
     "data": {
      "image/png": "[encoded data removed]",
      "text/plain": [
       "<Figure size 1400x800 with 1 Axes>"
      ]
     },
     "metadata": {},
     "output_type": "display_data"
    }
   ],
   "source": [
    "create_distrib(df)"
   ]
  },
  {
   "cell_type": "code",
   "execution_count": 35,
   "metadata": {},
   "outputs": [],
   "source": [
    "import pandas as pd\n",
    "\n",
    "def percent_distrib(df):\n",
    "    categorical_columns = ['task_group', 'author_category', 'language_category', 'downloads_category', 'location']\n",
    "\n",
    "    for col in categorical_columns:\n",
    "        print(f\"Percentage distribution for {col}:\")\n",
    "        percentages = df[col].value_counts(normalize=True) * 100\n",
    "        print(percentages.round(2))\n",
    "        print(\"\\n\")"
   ]
  },
  {
   "cell_type": "code",
   "execution_count": 36,
   "metadata": {},
   "outputs": [
    {
     "name": "stdout",
     "output_type": "stream",
     "text": [
      "Percentage distribution for task_group:\n",
      "task_group\n",
      "Text Processing                   67.20\n",
      "Unknown                           13.02\n",
      "Image Processing                  10.71\n",
      "Data Analysis & Classification     5.48\n",
      "Audio Processing                   2.95\n",
      "Video Processing                   0.28\n",
      "Multimodal Processing              0.27\n",
      "Specialized Applications           0.10\n",
      "Name: proportion, dtype: float64\n",
      "\n",
      "\n",
      "Percentage distribution for author_category:\n",
      "author_category\n",
      "Gold      57.73\n",
      "Silver    35.64\n",
      "Bronze     6.63\n",
      "Name: proportion, dtype: float64\n",
      "\n",
      "\n",
      "Percentage distribution for language_category:\n",
      "language_category\n",
      "High        90.03\n",
      "Moderate     7.73\n",
      "Low          2.25\n",
      "Name: proportion, dtype: float64\n",
      "\n",
      "\n",
      "Percentage distribution for downloads_category:\n",
      "downloads_category\n",
      "Very high    100.0\n",
      "Name: proportion, dtype: float64\n",
      "\n",
      "\n",
      "Percentage distribution for location:\n",
      "location\n",
      "us    99.85\n",
      "eu     0.15\n",
      "Name: proportion, dtype: float64\n",
      "\n",
      "\n"
     ]
    }
   ],
   "source": [
    "percent_distrib(df)"
   ]
  },
  {
   "cell_type": "code",
   "execution_count": 37,
   "metadata": {},
   "outputs": [
    {
     "name": "stdout",
     "output_type": "stream",
     "text": [
      "Percentage distribution for task_group:\n",
      "task_group\n",
      "Text Processing     71.26\n",
      "Unknown             18.41\n",
      "Image Processing    10.33\n",
      "Name: proportion, dtype: float64\n",
      "\n",
      "\n",
      "Percentage distribution for author_category:\n",
      "author_category\n",
      "Gold      60.25\n",
      "Silver    36.55\n",
      "Bronze     3.20\n",
      "Name: proportion, dtype: float64\n",
      "\n",
      "\n",
      "Percentage distribution for language_category:\n",
      "language_category\n",
      "High        91.38\n",
      "Moderate     8.62\n",
      "Name: proportion, dtype: float64\n",
      "\n",
      "\n",
      "Percentage distribution for downloads_category:\n",
      "downloads_category\n",
      "Very high    100.0\n",
      "Name: proportion, dtype: float64\n",
      "\n",
      "\n",
      "Percentage distribution for location:\n",
      "location\n",
      "us    100.0\n",
      "Name: proportion, dtype: float64\n",
      "\n",
      "\n"
     ]
    }
   ],
   "source": [
    "percent_distrib(gen_data)"
   ]
  },
  {
   "cell_type": "code",
   "execution_count": 2,
   "metadata": {},
   "outputs": [
    {
     "data": {
      "text/plain": [
       "downloads_category\n",
       "Very Low    867712\n",
       "Low         271634\n",
       "Mid          37247\n",
       "High         15166\n",
       "Name: count, dtype: int64"
      ]
     },
     "execution_count": 2,
     "metadata": {},
     "output_type": "execute_result"
    }
   ],
   "source": [
    "df = pd.read_csv('data/hf_models_withmodelcard_nov2024.csv')\n",
    "df.downloads_category.value_counts()"
   ]
  },
  {
   "cell_type": "code",
   "execution_count": 6,
   "metadata": {},
   "outputs": [
    {
     "data": {
      "text/plain": [
       "[smote_variants.oversampling._polynom_fit_smote.polynom_fit_SMOTE_bus,\n",
       " smote_variants.oversampling._polynom_fit_smote.polynom_fit_SMOTE_star,\n",
       " smote_variants.oversampling._rose.ROSE,\n",
       " smote_variants.oversampling._msmote.MSMOTE,\n",
       " smote_variants.oversampling._rwo_sampling.RWO_sampling,\n",
       " smote_variants.oversampling._polynom_fit_smote.polynom_fit_SMOTE_mesh,\n",
       " smote_variants.oversampling._polynom_fit_smote.polynom_fit_SMOTE_poly,\n",
       " smote_variants.oversampling._smote.SMOTE,\n",
       " smote_variants.oversampling._selected_smote.Selected_SMOTE,\n",
       " smote_variants.oversampling._nt_smote.NT_SMOTE,\n",
       " smote_variants.oversampling._g_smote.G_SMOTE,\n",
       " smote_variants.oversampling._random_smote.Random_SMOTE,\n",
       " smote_variants.oversampling._safe_level_smote.Safe_Level_SMOTE,\n",
       " smote_variants.oversampling._gaussian_smote.Gaussian_SMOTE,\n",
       " smote_variants.oversampling._mct.MCT,\n",
       " smote_variants.oversampling._borderline_smote.Borderline_SMOTE1,\n",
       " smote_variants.oversampling._cure_smote.CURE_SMOTE,\n",
       " smote_variants.oversampling._borderline_smote.Borderline_SMOTE2,\n",
       " smote_variants.oversampling._edge_det_smote.Edge_Det_SMOTE,\n",
       " smote_variants.oversampling._smote_out.SMOTE_OUT]"
      ]
     },
     "execution_count": 6,
     "metadata": {},
     "output_type": "execute_result"
    }
   ],
   "source": [
    "sv.queries.get_multiclass_oversamplers(n_quickest=20)"
   ]
  },
  {
   "cell_type": "code",
   "execution_count": 9,
   "metadata": {},
   "outputs": [],
   "source": [
    "import ast\n",
    "df['tags'] = df['tags'].apply(ast.literal_eval)\n",
    "df['location'] = df['tags'].apply(\n",
    "    lambda tags: next((tag.split(':', 1)[1] for tag in tags if tag.startswith('region:')), None)\n",
    ")"
   ]
  },
  {
   "cell_type": "code",
   "execution_count": null,
   "metadata": {},
   "outputs": [
    {
     "name": "stderr",
     "output_type": "stream",
     "text": [
      "2025-04-02 14:06:32,091:INFO:MulticlassOversampling: Running multiclass oversampling with strategy eq_1_vs_many_successive\n"
     ]
    },
    {
     "name": "stdout",
     "output_type": "stream",
     "text": [
      "downloads_category\n",
      "Very Low    867712\n",
      "Low         271634\n",
      "Mid          37247\n",
      "High         15166\n",
      "Name: count, dtype: int64\n"
     ]
    },
    {
     "name": "stderr",
     "output_type": "stream",
     "text": [
      "2025-04-02 14:06:33,142:INFO:MulticlassOversampling: Sampling minority class with label: Low\n",
      "2025-04-02 14:06:33,332:INFO:polynom_fit_SMOTE_bus: Running sampling via ('polynom_fit_SMOTE_bus', \"{'proportion': 1.0, 'topology': 'bus', 'random_state': 5, 'class_name': 'polynom_fit_SMOTE_bus'}\")\n",
      "2025-04-02 14:06:33,386:INFO:polynom_fit_SMOTE: Running sampling via ('polynom_fit_SMOTE', \"{'proportion': 1.0, 'topology': 'bus', 'random_state': 5, 'class_name': 'polynom_fit_SMOTE'}\")\n",
      "2025-04-02 14:06:34,757:INFO:MulticlassOversampling: Sampling minority class with label: Mid\n",
      "2025-04-02 14:06:34,986:INFO:polynom_fit_SMOTE_bus: Running sampling via ('polynom_fit_SMOTE_bus', \"{'proportion': 0.48903323976240404, 'topology': 'bus', 'random_state': 5, 'class_name': 'polynom_fit_SMOTE_bus'}\")\n",
      "2025-04-02 14:06:35,066:INFO:polynom_fit_SMOTE: Running sampling via ('polynom_fit_SMOTE', \"{'proportion': 0.48903323976240404, 'topology': 'bus', 'random_state': 5, 'class_name': 'polynom_fit_SMOTE'}\")\n",
      "2025-04-02 14:06:36,648:INFO:MulticlassOversampling: Sampling minority class with label: High\n",
      "2025-04-02 14:06:36,897:INFO:polynom_fit_SMOTE_bus: Running sampling via ('polynom_fit_SMOTE_bus', \"{'proportion': 0.32942653894751484, 'topology': 'bus', 'random_state': 5, 'class_name': 'polynom_fit_SMOTE_bus'}\")\n",
      "2025-04-02 14:06:37,025:INFO:polynom_fit_SMOTE: Running sampling via ('polynom_fit_SMOTE', \"{'proportion': 0.32942653894751484, 'topology': 'bus', 'random_state': 5, 'class_name': 'polynom_fit_SMOTE'}\")\n"
     ]
    }
   ],
   "source": [
    "target = 'downloads_category'\n",
    "features = ['task_group', 'author_category', 'language_category', 'location']\n",
    "\n",
    "X, y= df[features], df[target]\n",
    "# Convert categorical features to numerical using one-hot encoding\n",
    "X = pd.get_dummies(X, columns=features, drop_first=True)\n",
    "# Check the distribution of the target variable\n",
    "print(y.value_counts())\n",
    "\n",
    "oversampler= sv.MulticlassOversampling(oversampler='distant',\n",
    "                                      oversampler_params={'random_state': 5})\n",
    "\n",
    "# X_samp and y_samp contain the oversampled dataset\n",
    "X_samp, y_samp= oversampler.sample(X, y)"
   ]
  },
  {
   "cell_type": "code",
   "execution_count": 5,
   "metadata": {},
   "outputs": [
    {
     "data": {
      "text/plain": [
       "(array(['High', 'Low', 'Mid', 'Very Low'], dtype=object),\n",
       " array([849241, 814900, 856659, 867712]))"
      ]
     },
     "execution_count": 5,
     "metadata": {},
     "output_type": "execute_result"
    }
   ],
   "source": [
    "np.unique(y_samp, return_counts=True)"
   ]
  },
  {
   "cell_type": "code",
   "execution_count": 6,
   "metadata": {},
   "outputs": [
    {
     "name": "stderr",
     "output_type": "stream",
     "text": [
      "2025-04-02 14:08:53,205:INFO:polynom_fit_SMOTE_bus: Running sampling via ('polynom_fit_SMOTE_bus', \"{'proportion': 1.0, 'topology': 'bus', 'random_state': None, 'class_name': 'polynom_fit_SMOTE_bus'}\")\n",
      "2025-04-02 14:08:54,130:INFO:polynom_fit_SMOTE: Running sampling via ('polynom_fit_SMOTE', \"{'proportion': 1.0, 'topology': 'bus', 'random_state': None, 'class_name': 'polynom_fit_SMOTE'}\")\n"
     ]
    },
    {
     "data": {
      "text/plain": [
       "(array([[0.        , 0.        , 0.        , ..., 0.        , 0.        ,\n",
       "         1.        ],\n",
       "        [0.        , 0.        , 0.        , ..., 0.        , 0.        ,\n",
       "         1.        ],\n",
       "        [0.        , 0.        , 0.        , ..., 0.        , 0.        ,\n",
       "         1.        ],\n",
       "        ...,\n",
       "        [0.83333333, 0.        , 0.        , ..., 0.        , 0.        ,\n",
       "         1.        ],\n",
       "        [0.88888889, 0.        , 0.        , ..., 0.        , 0.        ,\n",
       "         1.        ],\n",
       "        [0.94444444, 0.        , 0.        , ..., 0.        , 0.        ,\n",
       "         1.        ]]),\n",
       " array(['Very Low', 'Very Low', 'Very Low', ..., 'High', 'High', 'High'],\n",
       "       dtype=object))"
      ]
     },
     "execution_count": 6,
     "metadata": {},
     "output_type": "execute_result"
    }
   ],
   "source": [
    "oversampler = sv.polynom_fit_SMOTE_bus()\n",
    "oversampler.sample(X,y)"
   ]
  },
  {
   "cell_type": "code",
   "execution_count": 7,
   "metadata": {},
   "outputs": [
    {
     "data": {
      "text/plain": [
       "(array(['High', 'Low', 'Mid', 'Very Low'], dtype=object),\n",
       " array([849241, 814900, 856659, 867712]))"
      ]
     },
     "execution_count": 7,
     "metadata": {},
     "output_type": "execute_result"
    }
   ],
   "source": [
    "np.unique(y_samp, return_counts=True)"
   ]
  },
  {
   "cell_type": "code",
   "execution_count": 3,
   "metadata": {},
   "outputs": [
    {
     "name": "stdout",
     "output_type": "stream",
     "text": [
      "<class 'pandas.core.frame.DataFrame'>\n",
      "RangeIndex: 1191759 entries, 0 to 1191758\n",
      "Data columns (total 5 columns):\n",
      " #   Column              Non-Null Count    Dtype \n",
      "---  ------              --------------    ----- \n",
      " 0   downloads_category  1191759 non-null  object\n",
      " 1   task_group          1191759 non-null  object\n",
      " 2   author_category     1191759 non-null  object\n",
      " 3   language_category   1191759 non-null  object\n",
      " 4   location            1191759 non-null  object\n",
      "dtypes: object(5)\n",
      "memory usage: 45.5+ MB\n"
     ]
    }
   ],
   "source": [
    "df = pd.read_csv('data/hf_models_withmodelcard_nov2024.csv')[['downloads_category', 'task_group', 'author_category', 'language_category', 'location']]\n",
    "df.info()"
   ]
  },
  {
   "cell_type": "code",
   "execution_count": 4,
   "metadata": {},
   "outputs": [
    {
     "data": {
      "text/plain": [
       "downloads_category\n",
       "Very Low    867712\n",
       "Low         271634\n",
       "Mid          37247\n",
       "High         15166\n",
       "Name: count, dtype: int64"
      ]
     },
     "execution_count": 4,
     "metadata": {},
     "output_type": "execute_result"
    }
   ],
   "source": [
    "df.downloads_category.value_counts()"
   ]
  },
  {
   "cell_type": "code",
   "execution_count": 5,
   "metadata": {},
   "outputs": [
    {
     "data": {
      "text/plain": [
       "downloads_category\n",
       "Very Low    867712\n",
       "Low         271634\n",
       "Name: count, dtype: int64"
      ]
     },
     "execution_count": 5,
     "metadata": {},
     "output_type": "execute_result"
    }
   ],
   "source": [
    "sub_df = df[df.downloads_category.isin(['Very Low', 'Low'])].copy()\n",
    "sub_df.downloads_category.value_counts()"
   ]
  },
  {
   "cell_type": "code",
   "execution_count": null,
   "metadata": {},
   "outputs": [
    {
     "name": "stderr",
     "output_type": "stream",
     "text": [
      "2025-04-17 21:14:37,181:INFO:kmeans_SMOTE: Running sampling via ('kmeans_SMOTE', \"{'proportion': 1.0, 'n_neighbors': 5, 'nn_params': {}, 'n_clusters': 10, 'irt': 2.0, 'n_jobs': 1, 'ss_params': {'n_dim': 2, 'simplex_sampling': 'random', 'within_simplex_sampling': 'random', 'gaussian_component': {}}, 'random_state': None, 'class_name': 'kmeans_SMOTE'}\")\n"
     ]
    }
   ],
   "source": [
    "oversampler = sv.kmeans_SMOTE()\n",
    "features = ['task_group', 'author_category', 'language_category', 'location']\n",
    "target = 'downloads_category'\n",
    "\n",
    "from sklearn.preprocessing import LabelEncoder\n",
    "def preprocess_data(df, features, target):\n",
    "    \"\"\"\n",
    "    Preprocess the data:\n",
    "     - One-hot encode the features to get numeric columns.\n",
    "     - Label encode the target if necessary.\n",
    "     - Return processed X and y.\n",
    "    \"\"\"\n",
    "    # One-hot encode the predictor columns\n",
    "    X = pd.get_dummies(df[features], drop_first=True)\n",
    "    \n",
    "    # Label encode the target column if it's not numeric\n",
    "    if df[target].dtype == 'object':\n",
    "        le = LabelEncoder()\n",
    "        y = le.fit_transform(df[target])\n",
    "    else:\n",
    "        y = df[target].values\n",
    "\n",
    "    return X, y\n",
    "\n",
    "X, y = preprocess_data(sub_df, features, target)\n",
    "\n",
    "# Ensure that X and y are numpy arrays, as some oversamplers require this format\n",
    "X_array = X.to_numpy()\n",
    "y_array = np.array(y)\n",
    "\n",
    "# Perform oversampling\n",
    "X_samp, y_samp = oversampler.sample(X_array.astype(int), y_array)\n",
    "\n",
    "# Convert the oversampled data back to a DataFrame for consistency\n",
    "X_samp = pd.DataFrame(X_samp, columns=X.columns)\n"
   ]
  },
  {
   "cell_type": "code",
   "execution_count": 10,
   "metadata": {},
   "outputs": [
    {
     "data": {
      "text/plain": [
       "[smote_variants.oversampling._a_suwo.A_SUWO,\n",
       " smote_variants.oversampling._adasyn.ADASYN,\n",
       " smote_variants.oversampling._adg.ADG,\n",
       " smote_variants.oversampling._and_smote.AND_SMOTE,\n",
       " smote_variants.oversampling._ans.ANS,\n",
       " smote_variants.oversampling._asmobd.ASMOBD,\n",
       " smote_variants.oversampling._assembled_smote.Assembled_SMOTE,\n",
       " smote_variants.oversampling._borderline_smote.Borderline_SMOTE1,\n",
       " smote_variants.oversampling._borderline_smote.Borderline_SMOTE2,\n",
       " smote_variants.oversampling._cbso.CBSO,\n",
       " smote_variants.oversampling._ccr.CCR,\n",
       " smote_variants.oversampling._ce_smote.CE_SMOTE,\n",
       " smote_variants.oversampling._cluster_smote.cluster_SMOTE,\n",
       " smote_variants.oversampling._cure_smote.CURE_SMOTE,\n",
       " smote_variants.oversampling._dbsmote.DBSMOTE,\n",
       " smote_variants.oversampling._deago.DEAGO,\n",
       " smote_variants.oversampling._distance_smote.distance_SMOTE,\n",
       " smote_variants.oversampling._dsrbf.DSRBF,\n",
       " smote_variants.oversampling._edge_det_smote.Edge_Det_SMOTE,\n",
       " smote_variants.oversampling._g_smote.G_SMOTE,\n",
       " smote_variants.oversampling._gaussian_smote.Gaussian_SMOTE,\n",
       " smote_variants.oversampling._polynom_fit_smote.polynom_fit_SMOTE_star,\n",
       " smote_variants.oversampling._polynom_fit_smote.polynom_fit_SMOTE_bus,\n",
       " smote_variants.oversampling._polynom_fit_smote.polynom_fit_SMOTE_poly,\n",
       " smote_variants.oversampling._polynom_fit_smote.polynom_fit_SMOTE_mesh,\n",
       " smote_variants.oversampling._kerneladasyn.KernelADASYN,\n",
       " smote_variants.oversampling._kmeans_smote.kmeans_SMOTE,\n",
       " smote_variants.oversampling._lee.Lee,\n",
       " smote_variants.oversampling._ln_smote.LN_SMOTE,\n",
       " smote_variants.oversampling._lvq_smote.LVQ_SMOTE,\n",
       " smote_variants.oversampling._mct.MCT,\n",
       " smote_variants.oversampling._mot2ld.MOT2LD,\n",
       " smote_variants.oversampling._msyn.MSYN,\n",
       " smote_variants.oversampling._mwmote.MWMOTE,\n",
       " smote_variants.oversampling._ndo_sampling.NDO_sampling,\n",
       " smote_variants.oversampling._nras.NRAS,\n",
       " smote_variants.oversampling._nrsboundary_smote.NRSBoundary_SMOTE,\n",
       " smote_variants.oversampling._nt_smote.NT_SMOTE,\n",
       " smote_variants.oversampling._oups.OUPS,\n",
       " smote_variants.oversampling._pdfos.PDFOS,\n",
       " smote_variants.oversampling._prowsyn.ProWSyn,\n",
       " smote_variants.oversampling._random_smote.Random_SMOTE,\n",
       " smote_variants.oversampling._rose.ROSE,\n",
       " smote_variants.oversampling._rwo_sampling.RWO_sampling,\n",
       " smote_variants.oversampling._safe_level_smote.Safe_Level_SMOTE,\n",
       " smote_variants.oversampling._sdsmote.SDSMOTE,\n",
       " smote_variants.oversampling._selected_smote.Selected_SMOTE,\n",
       " smote_variants.oversampling._sl_graph_smote.SL_graph_SMOTE,\n",
       " smote_variants.oversampling._smmo.SMMO,\n",
       " smote_variants.oversampling._smobd.SMOBD,\n",
       " smote_variants.oversampling._smote_cosine.SMOTE_Cosine,\n",
       " smote_variants.oversampling._smote_d.SMOTE_D,\n",
       " smote_variants.oversampling._smote_out.SMOTE_OUT,\n",
       " smote_variants.oversampling._smote_rsb.SMOTE_RSB,\n",
       " smote_variants.oversampling._smote.SMOTE,\n",
       " smote_variants.oversampling._sn_smote.SN_SMOTE,\n",
       " smote_variants.oversampling._soi_cj.SOI_CJ,\n",
       " smote_variants.oversampling._somo.SOMO,\n",
       " smote_variants.oversampling._sso.SSO,\n",
       " smote_variants.oversampling._supervised_smote.Supervised_SMOTE,\n",
       " smote_variants.oversampling._symprod.SYMPROD,\n",
       " smote_variants.oversampling._trim_smote.TRIM_SMOTE,\n",
       " smote_variants.oversampling._v_synth.V_SYNTH,\n",
       " smote_variants.oversampling._msmote.MSMOTE,\n",
       " smote_variants.oversampling._smote_amsr.SMOTE_AMSR,\n",
       " smote_variants.oversampling._smotewb.SMOTEWB]"
      ]
     },
     "execution_count": 10,
     "metadata": {},
     "output_type": "execute_result"
    }
   ],
   "source": [
    "sv.queries.get_multiclass_oversamplers()"
   ]
  },
  {
   "cell_type": "code",
   "execution_count": 3,
   "metadata": {},
   "outputs": [
    {
     "name": "stdout",
     "output_type": "stream",
     "text": [
      "downloads_category\n",
      "Very Low    867712\n",
      "High         15166\n",
      "Name: count, dtype: int64\n"
     ]
    }
   ],
   "source": [
    "import smote_variants as sv\n",
    "from sklearn.preprocessing import LabelEncoder\n",
    "\n",
    "df = pd.read_csv('data/hf_models_withmodelcard_nov2024.csv')[['task_group', 'author_category', 'language_category', 'location', 'downloads_category']]\n",
    "# for testing Very Low and Low\n",
    "df = df[df.downloads_category.isin(['Very Low', 'High'])].copy()\n",
    "\n",
    "print(df.downloads_category.value_counts())\n",
    "\n",
    "target = 'downloads_category'\n",
    "features = ['task_group', 'author_category', 'language_category', 'location']\n",
    "\n",
    "def preprocess_data(df, features, target):\n",
    "    \"\"\"\n",
    "    Preprocess the data:\n",
    "     - One-hot encode the features to get numeric columns.\n",
    "     - Label encode the target if necessary.\n",
    "     - Return processed X and y.\n",
    "    \"\"\"\n",
    "    # One-hot encode the predictor columns\n",
    "    X = pd.get_dummies(df[features], drop_first=True)\n",
    "    \n",
    "    # Label encode the target column if it's not numeric\n",
    "    if df[target].dtype == 'object':\n",
    "        le = LabelEncoder()\n",
    "        y = le.fit_transform(df[target])\n",
    "    else:\n",
    "        y = df[target].values\n",
    "\n",
    "    return X, y\n",
    "\n"
   ]
  },
  {
   "cell_type": "code",
   "execution_count": 22,
   "metadata": {},
   "outputs": [],
   "source": [
    "X, y = preprocess_data(df, features, target)\n",
    "X = X.astype(float)\n",
    "X = X.values\n",
    "\n",
    "oversampler = sv.kmeans_SMOTE(random_state=42, n_clusters=21, n_neighbors=5)\n",
    "mc = sv.MulticlassOversampling(\n",
    "    oversampler='kmeans_SMOTE',\n",
    "    oversampler_params={'n_clusters': 2, 'n_neighbors': 5, 'random_state': 42}\n",
    ")"
   ]
  },
  {
   "cell_type": "code",
   "execution_count": 23,
   "metadata": {},
   "outputs": [
    {
     "name": "stderr",
     "output_type": "stream",
     "text": [
      "2025-04-23 15:48:35,726:INFO:kmeans_SMOTE: Running sampling via ('kmeans_SMOTE', \"{'proportion': 1.0, 'n_neighbors': 5, 'nn_params': {}, 'n_clusters': 21, 'irt': 2.0, 'n_jobs': 1, 'ss_params': {'n_dim': 2, 'simplex_sampling': 'random', 'within_simplex_sampling': 'random', 'gaussian_component': {}}, 'random_state': 42, 'class_name': 'kmeans_SMOTE'}\")\n",
      "2025-04-23 15:48:37,509:INFO:NearestNeighborsWithMetricTensor: NN fitting with metric minkowski\n",
      "2025-04-23 15:48:37,512:INFO:NearestNeighborsWithMetricTensor: kneighbors query minkowski\n",
      "2025-04-23 15:48:37,554:INFO:kmeans_SMOTE: simplex sampling with n_dim 2\n"
     ]
    },
    {
     "name": "stdout",
     "output_type": "stream",
     "text": [
      "(array([0, 1]), array([867712, 867712]))\n"
     ]
    }
   ],
   "source": [
    "X_samp, y_samp = oversampler.sample(X, y)\n",
    "print(np.unique(y_samp, return_counts=True))"
   ]
  },
  {
   "cell_type": "code",
   "execution_count": 3,
   "metadata": {},
   "outputs": [],
   "source": [
    "df_old = pd.read_csv('data/hf_models_withmodelcard_nov2024.csv')[['task_group', 'author_category', 'language_category', 'location', 'downloads_category']]\n",
    "df = pd.read_csv('utils/kmeans_smote_balanced.csv')\n",
    "df_high = pd.read_csv('utils/kmeans_smote_High.csv')\n",
    "df_old.name = \"Original Dataset\"\n",
    "df.name = \"KMeans SMOTE final dataset\"\n",
    "df_high.name = \"KMeans SMOTE Very Low vs High\"\n",
    "df_Mid = pd.read_csv('utils/kmeans_smote_Mid.csv')\n",
    "df_Mid.name = \"KMeans SMOTE Mid vs High\""
   ]
  },
  {
   "cell_type": "code",
   "execution_count": 4,
   "metadata": {},
   "outputs": [],
   "source": [
    "def fix_values(df):\n",
    "    for col in ('task_group','author_category','language_category'):\n",
    "        # remove everything from the start of the string up through the first underscore\n",
    "        df[col] = df[col].str.replace(r'^[^_]*_', '', regex=True)\n",
    "    return df\n",
    "\n",
    "df_high = fix_values(df_high)\n",
    "df = fix_values(df)\n",
    "df_Mid = fix_values(df_Mid)"
   ]
  },
  {
   "cell_type": "code",
   "execution_count": 5,
   "metadata": {},
   "outputs": [
    {
     "name": "stdout",
     "output_type": "stream",
     "text": [
      "downloads_category\n",
      "Very Low    2603136\n",
      "Low          867712\n",
      "Mid          867712\n",
      "High         867712\n",
      "Name: count, dtype: int64\n",
      "downloads_category\n",
      "Very Low    867712\n",
      "High        867712\n",
      "Name: count, dtype: int64\n",
      "downloads_category\n",
      "Very Low    867608\n",
      "Low         271614\n",
      "Mid          37247\n",
      "High         15166\n",
      "Name: count, dtype: int64\n"
     ]
    }
   ],
   "source": [
    "print(df.downloads_category.value_counts())\n",
    "print(df_high.downloads_category.value_counts())\n",
    "print(df_old.downloads_category.value_counts())"
   ]
  },
  {
   "cell_type": "code",
   "execution_count": 6,
   "metadata": {},
   "outputs": [
    {
     "data": {
      "text/html": [
       "<div>\n",
       "<style scoped>\n",
       "    .dataframe tbody tr th:only-of-type {\n",
       "        vertical-align: middle;\n",
       "    }\n",
       "\n",
       "    .dataframe tbody tr th {\n",
       "        vertical-align: top;\n",
       "    }\n",
       "\n",
       "    .dataframe thead th {\n",
       "        text-align: right;\n",
       "    }\n",
       "</style>\n",
       "<table border=\"1\" class=\"dataframe\">\n",
       "  <thead>\n",
       "    <tr style=\"text-align: right;\">\n",
       "      <th></th>\n",
       "      <th>task_group</th>\n",
       "      <th>author_category</th>\n",
       "      <th>language_category</th>\n",
       "      <th>location</th>\n",
       "      <th>downloads_category</th>\n",
       "    </tr>\n",
       "  </thead>\n",
       "  <tbody>\n",
       "    <tr>\n",
       "      <th>0</th>\n",
       "      <td>Text Processing</td>\n",
       "      <td>Bronze</td>\n",
       "      <td>High</td>\n",
       "      <td>us</td>\n",
       "      <td>Very Low</td>\n",
       "    </tr>\n",
       "    <tr>\n",
       "      <th>1</th>\n",
       "      <td>Unknown</td>\n",
       "      <td>Bronze</td>\n",
       "      <td>High</td>\n",
       "      <td>us</td>\n",
       "      <td>Very Low</td>\n",
       "    </tr>\n",
       "    <tr>\n",
       "      <th>2</th>\n",
       "      <td>Unknown</td>\n",
       "      <td>Bronze</td>\n",
       "      <td>High</td>\n",
       "      <td>us</td>\n",
       "      <td>Very Low</td>\n",
       "    </tr>\n",
       "    <tr>\n",
       "      <th>3</th>\n",
       "      <td>Unknown</td>\n",
       "      <td>Silver</td>\n",
       "      <td>High</td>\n",
       "      <td>us</td>\n",
       "      <td>Very Low</td>\n",
       "    </tr>\n",
       "    <tr>\n",
       "      <th>4</th>\n",
       "      <td>Unknown</td>\n",
       "      <td>Silver</td>\n",
       "      <td>High</td>\n",
       "      <td>us</td>\n",
       "      <td>Very Low</td>\n",
       "    </tr>\n",
       "    <tr>\n",
       "      <th>5</th>\n",
       "      <td>Text Processing</td>\n",
       "      <td>Silver</td>\n",
       "      <td>High</td>\n",
       "      <td>us</td>\n",
       "      <td>Very Low</td>\n",
       "    </tr>\n",
       "    <tr>\n",
       "      <th>6</th>\n",
       "      <td>Text Processing</td>\n",
       "      <td>Silver</td>\n",
       "      <td>High</td>\n",
       "      <td>us</td>\n",
       "      <td>Very Low</td>\n",
       "    </tr>\n",
       "    <tr>\n",
       "      <th>7</th>\n",
       "      <td>Text Processing</td>\n",
       "      <td>Silver</td>\n",
       "      <td>High</td>\n",
       "      <td>us</td>\n",
       "      <td>Very Low</td>\n",
       "    </tr>\n",
       "    <tr>\n",
       "      <th>8</th>\n",
       "      <td>Text Processing</td>\n",
       "      <td>Silver</td>\n",
       "      <td>High</td>\n",
       "      <td>us</td>\n",
       "      <td>Very Low</td>\n",
       "    </tr>\n",
       "    <tr>\n",
       "      <th>9</th>\n",
       "      <td>Text Processing</td>\n",
       "      <td>Silver</td>\n",
       "      <td>High</td>\n",
       "      <td>us</td>\n",
       "      <td>Very Low</td>\n",
       "    </tr>\n",
       "  </tbody>\n",
       "</table>\n",
       "</div>"
      ],
      "text/plain": [
       "        task_group author_category language_category location  \\\n",
       "0  Text Processing          Bronze              High       us   \n",
       "1          Unknown          Bronze              High       us   \n",
       "2          Unknown          Bronze              High       us   \n",
       "3          Unknown          Silver              High       us   \n",
       "4          Unknown          Silver              High       us   \n",
       "5  Text Processing          Silver              High       us   \n",
       "6  Text Processing          Silver              High       us   \n",
       "7  Text Processing          Silver              High       us   \n",
       "8  Text Processing          Silver              High       us   \n",
       "9  Text Processing          Silver              High       us   \n",
       "\n",
       "  downloads_category  \n",
       "0           Very Low  \n",
       "1           Very Low  \n",
       "2           Very Low  \n",
       "3           Very Low  \n",
       "4           Very Low  \n",
       "5           Very Low  \n",
       "6           Very Low  \n",
       "7           Very Low  \n",
       "8           Very Low  \n",
       "9           Very Low  "
      ]
     },
     "execution_count": 6,
     "metadata": {},
     "output_type": "execute_result"
    }
   ],
   "source": [
    "df_old.head(10)"
   ]
  },
  {
   "cell_type": "code",
   "execution_count": 7,
   "metadata": {},
   "outputs": [
    {
     "data": {
      "text/html": [
       "<div>\n",
       "<style scoped>\n",
       "    .dataframe tbody tr th:only-of-type {\n",
       "        vertical-align: middle;\n",
       "    }\n",
       "\n",
       "    .dataframe tbody tr th {\n",
       "        vertical-align: top;\n",
       "    }\n",
       "\n",
       "    .dataframe thead th {\n",
       "        text-align: right;\n",
       "    }\n",
       "</style>\n",
       "<table border=\"1\" class=\"dataframe\">\n",
       "  <thead>\n",
       "    <tr style=\"text-align: right;\">\n",
       "      <th></th>\n",
       "      <th>task_group</th>\n",
       "      <th>author_category</th>\n",
       "      <th>language_category</th>\n",
       "      <th>location</th>\n",
       "      <th>downloads_category</th>\n",
       "    </tr>\n",
       "  </thead>\n",
       "  <tbody>\n",
       "    <tr>\n",
       "      <th>0</th>\n",
       "      <td>Text Processing</td>\n",
       "      <td>Bronze</td>\n",
       "      <td>High</td>\n",
       "      <td>us</td>\n",
       "      <td>Very Low</td>\n",
       "    </tr>\n",
       "    <tr>\n",
       "      <th>1</th>\n",
       "      <td>Unknown</td>\n",
       "      <td>Bronze</td>\n",
       "      <td>High</td>\n",
       "      <td>us</td>\n",
       "      <td>Very Low</td>\n",
       "    </tr>\n",
       "    <tr>\n",
       "      <th>2</th>\n",
       "      <td>Unknown</td>\n",
       "      <td>Bronze</td>\n",
       "      <td>High</td>\n",
       "      <td>us</td>\n",
       "      <td>Very Low</td>\n",
       "    </tr>\n",
       "    <tr>\n",
       "      <th>3</th>\n",
       "      <td>Unknown</td>\n",
       "      <td>Silver</td>\n",
       "      <td>High</td>\n",
       "      <td>us</td>\n",
       "      <td>Very Low</td>\n",
       "    </tr>\n",
       "    <tr>\n",
       "      <th>4</th>\n",
       "      <td>Unknown</td>\n",
       "      <td>Silver</td>\n",
       "      <td>High</td>\n",
       "      <td>us</td>\n",
       "      <td>Very Low</td>\n",
       "    </tr>\n",
       "    <tr>\n",
       "      <th>5</th>\n",
       "      <td>Text Processing</td>\n",
       "      <td>Silver</td>\n",
       "      <td>High</td>\n",
       "      <td>us</td>\n",
       "      <td>Very Low</td>\n",
       "    </tr>\n",
       "    <tr>\n",
       "      <th>6</th>\n",
       "      <td>Text Processing</td>\n",
       "      <td>Silver</td>\n",
       "      <td>High</td>\n",
       "      <td>us</td>\n",
       "      <td>Very Low</td>\n",
       "    </tr>\n",
       "    <tr>\n",
       "      <th>7</th>\n",
       "      <td>Text Processing</td>\n",
       "      <td>Silver</td>\n",
       "      <td>High</td>\n",
       "      <td>us</td>\n",
       "      <td>Very Low</td>\n",
       "    </tr>\n",
       "    <tr>\n",
       "      <th>8</th>\n",
       "      <td>Text Processing</td>\n",
       "      <td>Silver</td>\n",
       "      <td>High</td>\n",
       "      <td>us</td>\n",
       "      <td>Very Low</td>\n",
       "    </tr>\n",
       "    <tr>\n",
       "      <th>9</th>\n",
       "      <td>Text Processing</td>\n",
       "      <td>Silver</td>\n",
       "      <td>High</td>\n",
       "      <td>us</td>\n",
       "      <td>Very Low</td>\n",
       "    </tr>\n",
       "  </tbody>\n",
       "</table>\n",
       "</div>"
      ],
      "text/plain": [
       "        task_group author_category language_category location  \\\n",
       "0  Text Processing          Bronze              High       us   \n",
       "1          Unknown          Bronze              High       us   \n",
       "2          Unknown          Bronze              High       us   \n",
       "3          Unknown          Silver              High       us   \n",
       "4          Unknown          Silver              High       us   \n",
       "5  Text Processing          Silver              High       us   \n",
       "6  Text Processing          Silver              High       us   \n",
       "7  Text Processing          Silver              High       us   \n",
       "8  Text Processing          Silver              High       us   \n",
       "9  Text Processing          Silver              High       us   \n",
       "\n",
       "  downloads_category  \n",
       "0           Very Low  \n",
       "1           Very Low  \n",
       "2           Very Low  \n",
       "3           Very Low  \n",
       "4           Very Low  \n",
       "5           Very Low  \n",
       "6           Very Low  \n",
       "7           Very Low  \n",
       "8           Very Low  \n",
       "9           Very Low  "
      ]
     },
     "execution_count": 7,
     "metadata": {},
     "output_type": "execute_result"
    }
   ],
   "source": [
    "df_high.head(10)"
   ]
  },
  {
   "cell_type": "code",
   "execution_count": 8,
   "metadata": {},
   "outputs": [
    {
     "name": "stdout",
     "output_type": "stream",
     "text": [
      "========================================\n",
      "Comparing DataFrames: Original Dataset vs KMeans SMOTE Very Low vs High\n",
      "========================================\n",
      "Counts: 867608 vs 867712\n",
      "Exact match? False\n",
      "Number of differing rows: 0\n",
      "========================================\n",
      "Comparing DataFrames: Original Dataset vs KMeans SMOTE final dataset\n",
      "========================================\n",
      "Counts: 867608 vs 2603136\n",
      "Exact match? False\n",
      "Number of differing rows: 0\n",
      "========================================\n",
      "Comparing DataFrames: KMeans SMOTE Very Low vs High vs KMeans SMOTE final dataset\n",
      "========================================\n",
      "Counts: 867712 vs 2603136\n",
      "Exact match? False\n",
      "Number of differing rows: 0\n"
     ]
    }
   ],
   "source": [
    "\n",
    "def compare_dfs(df_old, df_high):\n",
    "  print(\"=\"*40)\n",
    "  print(f\"Comparing DataFrames: {df_old.name} vs {df_high.name}\")\n",
    "  print(\"=\"*40)\n",
    "  old_vl  = df_old [df_old .downloads_category=='Very Low'].copy()\n",
    "  high_vl = df_high[df_high.downloads_category=='Very Low'].copy()\n",
    "\n",
    "  # quick sanity check\n",
    "  print(\"Counts:\", old_vl.shape[0], \"vs\", high_vl.shape[0])\n",
    "\n",
    "  # define the features you want to compare\n",
    "  keys = ['task_group','author_category','language_category','location']\n",
    "\n",
    "  # sort each block and reset index\n",
    "  old_sorted  = old_vl [keys].sort_values(by=keys).reset_index(drop=True)\n",
    "  high_sorted = high_vl[keys].sort_values(by=keys).reset_index(drop=True)\n",
    "\n",
    "  # 1) Boolean test: are they exactly the same?\n",
    "  print(\"Exact match?\", old_sorted.equals(high_sorted))\n",
    "\n",
    "  # 2) If not, show you the mismatches:\n",
    "  diff = (\n",
    "      pd.concat([old_sorted, high_sorted])\n",
    "        .drop_duplicates(keep=False)\n",
    "  )\n",
    "  print(\"Number of differing rows:\", len(diff))\n",
    "  if not diff.empty:\n",
    "      print(diff.head())\n",
    "\n",
    "compare_dfs(df_old, df_high)\n",
    "compare_dfs(df_old, df)\n",
    "compare_dfs(df_high, df)\n"
   ]
  },
  {
   "cell_type": "code",
   "execution_count": 9,
   "metadata": {},
   "outputs": [
    {
     "name": "stdout",
     "output_type": "stream",
     "text": [
      "========================================\n",
      "Comparing DataFrames: KMeans SMOTE Very Low vs High vs KMeans SMOTE Mid vs High\n",
      "========================================\n",
      "Counts: 867712 vs 867712\n",
      "Exact match? True\n",
      "Number of differing rows: 0\n"
     ]
    }
   ],
   "source": [
    "compare_dfs(df_high, df_Mid)"
   ]
  },
  {
   "cell_type": "code",
   "execution_count": 10,
   "metadata": {},
   "outputs": [
    {
     "name": "stdout",
     "output_type": "stream",
     "text": [
      "downloads_category\n",
      "Very Low    867712\n",
      "Low         867712\n",
      "Mid         867712\n",
      "High        867712\n",
      "Name: count, dtype: int64\n"
     ]
    }
   ],
   "source": [
    "import pandas as pd\n",
    "\n",
    "kmeans_smote_Low = pd.read_csv('utils/kmeans_smote_Low.csv')\n",
    "kmeans_smote_High = pd.read_csv('utils/kmeans_smote_High.csv')\n",
    "kmeans_smote_Mid = pd.read_csv('utils/kmeans_smote_Mid.csv')\n",
    "\n",
    "kmeans_smote_Low = fix_values(kmeans_smote_Low)\n",
    "kmeans_smote_High = fix_values(kmeans_smote_High)\n",
    "kmeans_smote_Mid = fix_values(kmeans_smote_Mid)\n",
    "\n",
    "# 1) grab one copy of the Very Low rows\n",
    "df_vl = kmeans_smote_Low.loc[\n",
    "    kmeans_smote_Low['downloads_category'] == 'Very Low'\n",
    "].copy()\n",
    "\n",
    "# 2) grab the other classes\n",
    "df_low  = kmeans_smote_Low.loc[ kmeans_smote_Low['downloads_category'] == 'Low' ]\n",
    "df_mid  = kmeans_smote_Mid.loc[ kmeans_smote_Mid['downloads_category'] == 'Mid' ]\n",
    "df_high = kmeans_smote_High.loc[kmeans_smote_High['downloads_category'] == 'High']\n",
    "\n",
    "# 3) concatenate\n",
    "balanced_df = pd.concat([df_vl, df_low, df_mid, df_high], ignore_index=True)\n",
    "\n",
    "# verify\n",
    "print(balanced_df['downloads_category'].value_counts())\n"
   ]
  },
  {
   "cell_type": "code",
   "execution_count": 11,
   "metadata": {},
   "outputs": [
    {
     "data": {
      "text/html": [
       "<div>\n",
       "<style scoped>\n",
       "    .dataframe tbody tr th:only-of-type {\n",
       "        vertical-align: middle;\n",
       "    }\n",
       "\n",
       "    .dataframe tbody tr th {\n",
       "        vertical-align: top;\n",
       "    }\n",
       "\n",
       "    .dataframe thead th {\n",
       "        text-align: right;\n",
       "    }\n",
       "</style>\n",
       "<table border=\"1\" class=\"dataframe\">\n",
       "  <thead>\n",
       "    <tr style=\"text-align: right;\">\n",
       "      <th></th>\n",
       "      <th>task_group</th>\n",
       "      <th>author_category</th>\n",
       "      <th>language_category</th>\n",
       "      <th>location</th>\n",
       "      <th>downloads_category</th>\n",
       "    </tr>\n",
       "  </thead>\n",
       "  <tbody>\n",
       "    <tr>\n",
       "      <th>0</th>\n",
       "      <td>Text Processing</td>\n",
       "      <td>Bronze</td>\n",
       "      <td>High</td>\n",
       "      <td>us</td>\n",
       "      <td>Very Low</td>\n",
       "    </tr>\n",
       "    <tr>\n",
       "      <th>1</th>\n",
       "      <td>Unknown</td>\n",
       "      <td>Bronze</td>\n",
       "      <td>High</td>\n",
       "      <td>us</td>\n",
       "      <td>Very Low</td>\n",
       "    </tr>\n",
       "    <tr>\n",
       "      <th>2</th>\n",
       "      <td>Unknown</td>\n",
       "      <td>Bronze</td>\n",
       "      <td>High</td>\n",
       "      <td>us</td>\n",
       "      <td>Very Low</td>\n",
       "    </tr>\n",
       "    <tr>\n",
       "      <th>3</th>\n",
       "      <td>Unknown</td>\n",
       "      <td>Silver</td>\n",
       "      <td>High</td>\n",
       "      <td>us</td>\n",
       "      <td>Very Low</td>\n",
       "    </tr>\n",
       "    <tr>\n",
       "      <th>4</th>\n",
       "      <td>Unknown</td>\n",
       "      <td>Silver</td>\n",
       "      <td>High</td>\n",
       "      <td>us</td>\n",
       "      <td>Very Low</td>\n",
       "    </tr>\n",
       "    <tr>\n",
       "      <th>5</th>\n",
       "      <td>Text Processing</td>\n",
       "      <td>Silver</td>\n",
       "      <td>High</td>\n",
       "      <td>us</td>\n",
       "      <td>Very Low</td>\n",
       "    </tr>\n",
       "    <tr>\n",
       "      <th>6</th>\n",
       "      <td>Text Processing</td>\n",
       "      <td>Silver</td>\n",
       "      <td>High</td>\n",
       "      <td>us</td>\n",
       "      <td>Very Low</td>\n",
       "    </tr>\n",
       "    <tr>\n",
       "      <th>7</th>\n",
       "      <td>Text Processing</td>\n",
       "      <td>Silver</td>\n",
       "      <td>High</td>\n",
       "      <td>us</td>\n",
       "      <td>Very Low</td>\n",
       "    </tr>\n",
       "    <tr>\n",
       "      <th>8</th>\n",
       "      <td>Text Processing</td>\n",
       "      <td>Silver</td>\n",
       "      <td>High</td>\n",
       "      <td>us</td>\n",
       "      <td>Very Low</td>\n",
       "    </tr>\n",
       "    <tr>\n",
       "      <th>9</th>\n",
       "      <td>Text Processing</td>\n",
       "      <td>Silver</td>\n",
       "      <td>High</td>\n",
       "      <td>us</td>\n",
       "      <td>Very Low</td>\n",
       "    </tr>\n",
       "  </tbody>\n",
       "</table>\n",
       "</div>"
      ],
      "text/plain": [
       "        task_group author_category language_category location  \\\n",
       "0  Text Processing          Bronze              High       us   \n",
       "1          Unknown          Bronze              High       us   \n",
       "2          Unknown          Bronze              High       us   \n",
       "3          Unknown          Silver              High       us   \n",
       "4          Unknown          Silver              High       us   \n",
       "5  Text Processing          Silver              High       us   \n",
       "6  Text Processing          Silver              High       us   \n",
       "7  Text Processing          Silver              High       us   \n",
       "8  Text Processing          Silver              High       us   \n",
       "9  Text Processing          Silver              High       us   \n",
       "\n",
       "  downloads_category  \n",
       "0           Very Low  \n",
       "1           Very Low  \n",
       "2           Very Low  \n",
       "3           Very Low  \n",
       "4           Very Low  \n",
       "5           Very Low  \n",
       "6           Very Low  \n",
       "7           Very Low  \n",
       "8           Very Low  \n",
       "9           Very Low  "
      ]
     },
     "execution_count": 11,
     "metadata": {},
     "output_type": "execute_result"
    }
   ],
   "source": [
    "balanced_df.head(10)"
   ]
  },
  {
   "cell_type": "code",
   "execution_count": 38,
   "metadata": {},
   "outputs": [
    {
     "name": "stdout",
     "output_type": "stream",
     "text": [
      "downloads_category\n",
      "Very Low    867712\n",
      "Low         867712\n",
      "Mid         867712\n",
      "High        867712\n",
      "Name: count, dtype: int64\n"
     ]
    },
    {
     "data": {
      "image/png": "[encoded data removed]",
      "text/plain": [
       "<Figure size 1400x800 with 1 Axes>"
      ]
     },
     "metadata": {},
     "output_type": "display_data"
    }
   ],
   "source": [
    "import matplotlib.pyplot as plt\n",
    "import seaborn as sns\n",
    "\n",
    "def create_distrib(df):\n",
    "    print(df.downloads_category.value_counts())\n",
    "    # Create a count plot\n",
    "    plt.figure(figsize=(14, 8))\n",
    "    sns.set_theme(style=\"whitegrid\")\n",
    "\n",
    "    # Create grouped bar chart\n",
    "    ax = sns.countplot(\n",
    "        x=\"task_group\",\n",
    "        hue=\"downloads_category\",\n",
    "        data=df,\n",
    "        order=df['task_group'].value_counts().index,\n",
    "        palette=\"viridis\"\n",
    "    )\n",
    "\n",
    "    # Customize plot\n",
    "    plt.title(\"Distribution of Download Categories Across Task Groups\", fontsize=16, pad=20)\n",
    "    plt.xlabel(\"Task Group\", fontsize=12)\n",
    "    plt.ylabel(\"Count of Models\", fontsize=12)\n",
    "    plt.xticks(rotation=45, ha=\"right\")\n",
    "\n",
    "    # Add percentage annotations\n",
    "    total = len(df)\n",
    "    for p in ax.patches:\n",
    "        height = p.get_height()\n",
    "        ax.text(p.get_x() + p.get_width()/2., height + 3,\n",
    "                f'{height/total:.1%}',\n",
    "                ha=\"center\", fontsize=9)\n",
    "\n",
    "    plt.legend(title=\"Download Category\", bbox_to_anchor=(1.05, 1), loc='upper left')\n",
    "    plt.tight_layout()\n",
    "    plt.show()\n",
    "\n",
    "create_distrib(balanced_df) "
   ]
  },
  {
   "cell_type": "code",
   "execution_count": 12,
   "metadata": {},
   "outputs": [],
   "source": [
    "balanced_df.to_csv('utils/kmeans_smote_balanced.csv', index=False)"
   ]
  },
  {
   "cell_type": "code",
   "execution_count": 3,
   "metadata": {},
   "outputs": [
    {
     "data": {
      "text/plain": [
       "124"
      ]
     },
     "execution_count": 3,
     "metadata": {},
     "output_type": "execute_result"
    }
   ],
   "source": [
    "df = pd.read_csv('data/hf_models_withmodelcard_nov2024.csv')\n",
    "df.duplicated().sum()"
   ]
  },
  {
   "cell_type": "code",
   "execution_count": 17,
   "metadata": {},
   "outputs": [],
   "source": [
    "df = pd.read_csv('data/hf_models_withmodelcard_nov2024.csv')\n"
   ]
  },
  {
   "cell_type": "code",
   "execution_count": 18,
   "metadata": {},
   "outputs": [
    {
     "data": {
      "text/plain": [
       "0"
      ]
     },
     "execution_count": 18,
     "metadata": {},
     "output_type": "execute_result"
    }
   ],
   "source": [
    "df.duplicated().sum()"
   ]
  },
  {
   "cell_type": "code",
   "execution_count": 19,
   "metadata": {},
   "outputs": [
    {
     "data": {
      "text/plain": [
       "1191386"
      ]
     },
     "execution_count": 19,
     "metadata": {},
     "output_type": "execute_result"
    }
   ],
   "source": [
    "features = ['task_group', 'author_category', 'language_category', 'location', 'downloads_category']\n",
    "new_df = df[features].copy()\n",
    "new_df.duplicated().sum()"
   ]
  },
  {
   "cell_type": "code",
   "execution_count": 20,
   "metadata": {},
   "outputs": [
    {
     "data": {
      "text/html": [
       "<div>\n",
       "<style scoped>\n",
       "    .dataframe tbody tr th:only-of-type {\n",
       "        vertical-align: middle;\n",
       "    }\n",
       "\n",
       "    .dataframe tbody tr th {\n",
       "        vertical-align: top;\n",
       "    }\n",
       "\n",
       "    .dataframe thead th {\n",
       "        text-align: right;\n",
       "    }\n",
       "</style>\n",
       "<table border=\"1\" class=\"dataframe\">\n",
       "  <thead>\n",
       "    <tr style=\"text-align: right;\">\n",
       "      <th></th>\n",
       "      <th>task_group</th>\n",
       "      <th>author_category</th>\n",
       "      <th>language_category</th>\n",
       "      <th>location</th>\n",
       "      <th>downloads_category</th>\n",
       "    </tr>\n",
       "  </thead>\n",
       "  <tbody>\n",
       "    <tr>\n",
       "      <th>0</th>\n",
       "      <td>Text Processing</td>\n",
       "      <td>Bronze</td>\n",
       "      <td>High</td>\n",
       "      <td>us</td>\n",
       "      <td>Very Low</td>\n",
       "    </tr>\n",
       "    <tr>\n",
       "      <th>1</th>\n",
       "      <td>Unknown</td>\n",
       "      <td>Bronze</td>\n",
       "      <td>High</td>\n",
       "      <td>us</td>\n",
       "      <td>Very Low</td>\n",
       "    </tr>\n",
       "    <tr>\n",
       "      <th>2</th>\n",
       "      <td>Unknown</td>\n",
       "      <td>Bronze</td>\n",
       "      <td>High</td>\n",
       "      <td>us</td>\n",
       "      <td>Very Low</td>\n",
       "    </tr>\n",
       "    <tr>\n",
       "      <th>3</th>\n",
       "      <td>Unknown</td>\n",
       "      <td>Silver</td>\n",
       "      <td>High</td>\n",
       "      <td>us</td>\n",
       "      <td>Very Low</td>\n",
       "    </tr>\n",
       "    <tr>\n",
       "      <th>4</th>\n",
       "      <td>Unknown</td>\n",
       "      <td>Silver</td>\n",
       "      <td>High</td>\n",
       "      <td>us</td>\n",
       "      <td>Very Low</td>\n",
       "    </tr>\n",
       "    <tr>\n",
       "      <th>...</th>\n",
       "      <td>...</td>\n",
       "      <td>...</td>\n",
       "      <td>...</td>\n",
       "      <td>...</td>\n",
       "      <td>...</td>\n",
       "    </tr>\n",
       "    <tr>\n",
       "      <th>1191630</th>\n",
       "      <td>Unknown</td>\n",
       "      <td>Bronze</td>\n",
       "      <td>High</td>\n",
       "      <td>us</td>\n",
       "      <td>Very Low</td>\n",
       "    </tr>\n",
       "    <tr>\n",
       "      <th>1191631</th>\n",
       "      <td>Text Processing</td>\n",
       "      <td>Bronze</td>\n",
       "      <td>High</td>\n",
       "      <td>us</td>\n",
       "      <td>Very Low</td>\n",
       "    </tr>\n",
       "    <tr>\n",
       "      <th>1191632</th>\n",
       "      <td>Unknown</td>\n",
       "      <td>Bronze</td>\n",
       "      <td>High</td>\n",
       "      <td>us</td>\n",
       "      <td>Very Low</td>\n",
       "    </tr>\n",
       "    <tr>\n",
       "      <th>1191633</th>\n",
       "      <td>Unknown</td>\n",
       "      <td>Bronze</td>\n",
       "      <td>High</td>\n",
       "      <td>us</td>\n",
       "      <td>Very Low</td>\n",
       "    </tr>\n",
       "    <tr>\n",
       "      <th>1191634</th>\n",
       "      <td>Unknown</td>\n",
       "      <td>Bronze</td>\n",
       "      <td>High</td>\n",
       "      <td>us</td>\n",
       "      <td>Very Low</td>\n",
       "    </tr>\n",
       "  </tbody>\n",
       "</table>\n",
       "<p>1191635 rows × 5 columns</p>\n",
       "</div>"
      ],
      "text/plain": [
       "              task_group author_category language_category location  \\\n",
       "0        Text Processing          Bronze              High       us   \n",
       "1                Unknown          Bronze              High       us   \n",
       "2                Unknown          Bronze              High       us   \n",
       "3                Unknown          Silver              High       us   \n",
       "4                Unknown          Silver              High       us   \n",
       "...                  ...             ...               ...      ...   \n",
       "1191630          Unknown          Bronze              High       us   \n",
       "1191631  Text Processing          Bronze              High       us   \n",
       "1191632          Unknown          Bronze              High       us   \n",
       "1191633          Unknown          Bronze              High       us   \n",
       "1191634          Unknown          Bronze              High       us   \n",
       "\n",
       "        downloads_category  \n",
       "0                 Very Low  \n",
       "1                 Very Low  \n",
       "2                 Very Low  \n",
       "3                 Very Low  \n",
       "4                 Very Low  \n",
       "...                    ...  \n",
       "1191630           Very Low  \n",
       "1191631           Very Low  \n",
       "1191632           Very Low  \n",
       "1191633           Very Low  \n",
       "1191634           Very Low  \n",
       "\n",
       "[1191635 rows x 5 columns]"
      ]
     },
     "execution_count": 20,
     "metadata": {},
     "output_type": "execute_result"
    }
   ],
   "source": [
    "new_df"
   ]
  },
  {
   "cell_type": "code",
   "execution_count": 21,
   "metadata": {},
   "outputs": [],
   "source": [
    "new_df = new_df.drop_duplicates()"
   ]
  },
  {
   "cell_type": "code",
   "execution_count": 22,
   "metadata": {},
   "outputs": [
    {
     "data": {
      "text/html": [
       "<div>\n",
       "<style scoped>\n",
       "    .dataframe tbody tr th:only-of-type {\n",
       "        vertical-align: middle;\n",
       "    }\n",
       "\n",
       "    .dataframe tbody tr th {\n",
       "        vertical-align: top;\n",
       "    }\n",
       "\n",
       "    .dataframe thead th {\n",
       "        text-align: right;\n",
       "    }\n",
       "</style>\n",
       "<table border=\"1\" class=\"dataframe\">\n",
       "  <thead>\n",
       "    <tr style=\"text-align: right;\">\n",
       "      <th></th>\n",
       "      <th>task_group</th>\n",
       "      <th>author_category</th>\n",
       "      <th>language_category</th>\n",
       "      <th>location</th>\n",
       "      <th>downloads_category</th>\n",
       "    </tr>\n",
       "  </thead>\n",
       "  <tbody>\n",
       "    <tr>\n",
       "      <th>0</th>\n",
       "      <td>Text Processing</td>\n",
       "      <td>Bronze</td>\n",
       "      <td>High</td>\n",
       "      <td>us</td>\n",
       "      <td>Very Low</td>\n",
       "    </tr>\n",
       "    <tr>\n",
       "      <th>1</th>\n",
       "      <td>Unknown</td>\n",
       "      <td>Bronze</td>\n",
       "      <td>High</td>\n",
       "      <td>us</td>\n",
       "      <td>Very Low</td>\n",
       "    </tr>\n",
       "    <tr>\n",
       "      <th>3</th>\n",
       "      <td>Unknown</td>\n",
       "      <td>Silver</td>\n",
       "      <td>High</td>\n",
       "      <td>us</td>\n",
       "      <td>Very Low</td>\n",
       "    </tr>\n",
       "    <tr>\n",
       "      <th>5</th>\n",
       "      <td>Text Processing</td>\n",
       "      <td>Silver</td>\n",
       "      <td>High</td>\n",
       "      <td>us</td>\n",
       "      <td>Very Low</td>\n",
       "    </tr>\n",
       "    <tr>\n",
       "      <th>10</th>\n",
       "      <td>Text Processing</td>\n",
       "      <td>Bronze</td>\n",
       "      <td>High</td>\n",
       "      <td>us</td>\n",
       "      <td>Low</td>\n",
       "    </tr>\n",
       "    <tr>\n",
       "      <th>...</th>\n",
       "      <td>...</td>\n",
       "      <td>...</td>\n",
       "      <td>...</td>\n",
       "      <td>...</td>\n",
       "      <td>...</td>\n",
       "    </tr>\n",
       "    <tr>\n",
       "      <th>951027</th>\n",
       "      <td>Text Processing</td>\n",
       "      <td>Gold</td>\n",
       "      <td>High</td>\n",
       "      <td>eu</td>\n",
       "      <td>Mid</td>\n",
       "    </tr>\n",
       "    <tr>\n",
       "      <th>954548</th>\n",
       "      <td>Audio Processing</td>\n",
       "      <td>Gold</td>\n",
       "      <td>High</td>\n",
       "      <td>eu</td>\n",
       "      <td>Mid</td>\n",
       "    </tr>\n",
       "    <tr>\n",
       "      <th>1059925</th>\n",
       "      <td>Unknown</td>\n",
       "      <td>Bronze</td>\n",
       "      <td>Low</td>\n",
       "      <td>us</td>\n",
       "      <td>High</td>\n",
       "    </tr>\n",
       "    <tr>\n",
       "      <th>1101900</th>\n",
       "      <td>Specialized Applications</td>\n",
       "      <td>Bronze</td>\n",
       "      <td>Low</td>\n",
       "      <td>us</td>\n",
       "      <td>Low</td>\n",
       "    </tr>\n",
       "    <tr>\n",
       "      <th>1148871</th>\n",
       "      <td>Specialized Applications</td>\n",
       "      <td>Silver</td>\n",
       "      <td>High</td>\n",
       "      <td>us</td>\n",
       "      <td>Mid</td>\n",
       "    </tr>\n",
       "  </tbody>\n",
       "</table>\n",
       "<p>249 rows × 5 columns</p>\n",
       "</div>"
      ],
      "text/plain": [
       "                       task_group author_category language_category location  \\\n",
       "0                 Text Processing          Bronze              High       us   \n",
       "1                         Unknown          Bronze              High       us   \n",
       "3                         Unknown          Silver              High       us   \n",
       "5                 Text Processing          Silver              High       us   \n",
       "10                Text Processing          Bronze              High       us   \n",
       "...                           ...             ...               ...      ...   \n",
       "951027            Text Processing            Gold              High       eu   \n",
       "954548           Audio Processing            Gold              High       eu   \n",
       "1059925                   Unknown          Bronze               Low       us   \n",
       "1101900  Specialized Applications          Bronze               Low       us   \n",
       "1148871  Specialized Applications          Silver              High       us   \n",
       "\n",
       "        downloads_category  \n",
       "0                 Very Low  \n",
       "1                 Very Low  \n",
       "3                 Very Low  \n",
       "5                 Very Low  \n",
       "10                     Low  \n",
       "...                    ...  \n",
       "951027                 Mid  \n",
       "954548                 Mid  \n",
       "1059925               High  \n",
       "1101900                Low  \n",
       "1148871                Mid  \n",
       "\n",
       "[249 rows x 5 columns]"
      ]
     },
     "execution_count": 22,
     "metadata": {},
     "output_type": "execute_result"
    }
   ],
   "source": [
    "new_df"
   ]
  },
  {
   "cell_type": "code",
   "execution_count": 2,
   "metadata": {},
   "outputs": [
    {
     "name": "stdout",
     "output_type": "stream",
     "text": [
      "downloads_category\n",
      "Very Low    867608\n",
      "Low         271614\n",
      "Mid          37247\n",
      "High         15166\n",
      "Name: count, dtype: int64\n",
      "downloads_category\n",
      "Very Low    867712\n",
      "Low         867712\n",
      "Mid         867712\n",
      "High        867712\n",
      "Name: count, dtype: int64\n",
      "downloads_category\n",
      "Low         271634\n",
      "High        271634\n",
      "Mid         271634\n",
      "Very Low    271629\n",
      "Name: count, dtype: int64\n"
     ]
    }
   ],
   "source": [
    "from utils.helpers import train_and_evaluate_model_different_dfs\n",
    "\n",
    "potnet_training_df = pd.read_csv('data/generated_data/hf_11_24_balanced.csv')\n",
    "smote_training_df = pd.read_csv('utils/kmeans_smote_balanced.csv')\n",
    "testing_df = pd.read_csv('data/hf_models_withmodelcard_nov2024.csv')\n",
    "print(testing_df.downloads_category.value_counts())\n",
    "print(smote_training_df.downloads_category.value_counts())\n",
    "print(potnet_training_df.downloads_category.value_counts())"
   ]
  },
  {
   "cell_type": "code",
   "execution_count": 8,
   "metadata": {},
   "outputs": [
    {
     "name": "stdout",
     "output_type": "stream",
     "text": [
      "<class 'pandas.core.frame.DataFrame'>\n",
      "RangeIndex: 1191635 entries, 0 to 1191634\n",
      "Data columns (total 25 columns):\n",
      " #   Column               Non-Null Count    Dtype \n",
      "---  ------               --------------    ----- \n",
      " 0   model_id             1191635 non-null  object\n",
      " 1   num_downloads        1191635 non-null  int64 \n",
      " 2   num_likes            1191635 non-null  int64 \n",
      " 3   is_private           1191635 non-null  bool  \n",
      " 4   task                 1191635 non-null  object\n",
      " 5   tags                 1191635 non-null  object\n",
      " 6   author               1191635 non-null  object\n",
      " 7   author_category      1191635 non-null  object\n",
      " 8   base_model_relation  322 non-null      object\n",
      " 9   base_model           269143 non-null   object\n",
      " 10  language             1191635 non-null  object\n",
      " 11  model_creator        6528 non-null     object\n",
      " 12  model_type           4578 non-null     object\n",
      " 13  model_name           6433 non-null     object\n",
      " 14  model_card_tags      376704 non-null   object\n",
      " 15  datasets             87006 non-null    object\n",
      " 16  library_name         284837 non-null   object\n",
      " 17  task_group           1191635 non-null  object\n",
      " 18  language_category    1191635 non-null  object\n",
      " 19  downloads_category   1191635 non-null  object\n",
      " 20  base_model_category  269141 non-null   object\n",
      " 21  mixtral_response     269143 non-null   object\n",
      " 22  base_model_params    269141 non-null   object\n",
      " 23  model_type_cleaned   4570 non-null     object\n",
      " 24  location             1191635 non-null  object\n",
      "dtypes: bool(1), int64(2), object(22)\n",
      "memory usage: 219.3+ MB\n"
     ]
    }
   ],
   "source": [
    "testing_df.info()"
   ]
  },
  {
   "cell_type": "code",
   "execution_count": 3,
   "metadata": {},
   "outputs": [],
   "source": [
    "features = ['task_group', 'author_category', 'language_category', 'location']\n",
    "target = 'downloads_category'"
   ]
  },
  {
   "cell_type": "code",
   "execution_count": 4,
   "metadata": {},
   "outputs": [
    {
     "name": "stdout",
     "output_type": "stream",
     "text": [
      "Accuracy: 0.1707\n",
      "Precision: 0.1707\n",
      "Recall: 0.1707\n",
      "Micro Average F1 Score: 0.1707\n",
      "Macro Average F1 Score: 0.1823\n",
      "Training Time: 19.22 seconds\n",
      "Testing Time: 0.94 seconds\n"
     ]
    }
   ],
   "source": [
    "train_and_evaluate_model_different_dfs(potnet_training_df, testing_df, features, target, \"logistic\")"
   ]
  },
  {
   "cell_type": "code",
   "execution_count": 5,
   "metadata": {},
   "outputs": [
    {
     "name": "stdout",
     "output_type": "stream",
     "text": [
      "Accuracy: 0.4530\n",
      "Precision: 0.4530\n",
      "Recall: 0.4530\n",
      "Micro Average F1 Score: 0.4530\n",
      "Macro Average F1 Score: 0.3079\n",
      "Training Time: 77.80 seconds\n",
      "Testing Time: 5.80 seconds\n"
     ]
    }
   ],
   "source": [
    "train_and_evaluate_model_different_dfs(potnet_training_df, testing_df, features, target, \"random_forest\")"
   ]
  },
  {
   "cell_type": "code",
   "execution_count": 6,
   "metadata": {},
   "outputs": [
    {
     "name": "stdout",
     "output_type": "stream",
     "text": [
      "Accuracy: 0.7457\n",
      "Precision: 0.7457\n",
      "Recall: 0.7457\n",
      "Micro Average F1 Score: 0.7457\n",
      "Macro Average F1 Score: 0.4020\n",
      "Training Time: 27.03 seconds\n",
      "Testing Time: 0.94 seconds\n"
     ]
    }
   ],
   "source": [
    "train_and_evaluate_model_different_dfs(smote_training_df, testing_df, features, target, \"logistic\")"
   ]
  },
  {
   "cell_type": "code",
   "execution_count": 7,
   "metadata": {},
   "outputs": [
    {
     "name": "stdout",
     "output_type": "stream",
     "text": [
      "Accuracy: 0.7510\n",
      "Precision: 0.7510\n",
      "Recall: 0.7510\n",
      "Micro Average F1 Score: 0.7510\n",
      "Macro Average F1 Score: 0.4123\n",
      "Training Time: 193.58 seconds\n",
      "Testing Time: 5.70 seconds\n"
     ]
    }
   ],
   "source": [
    "train_and_evaluate_model_different_dfs(smote_training_df, testing_df, features, target, \"random_forest\")"
   ]
  },
  {
   "cell_type": "code",
   "execution_count": null,
   "metadata": {},
   "outputs": [],
   "source": []
  }
 ],
 "metadata": {
  "kernelspec": {
   "display_name": "potnet",
   "language": "python",
   "name": "python3"
  },
  "language_info": {
   "codemirror_mode": {
    "name": "ipython",
    "version": 3
   },
   "file_extension": ".py",
   "mimetype": "text/x-python",
   "name": "python",
   "nbconvert_exporter": "python",
   "pygments_lexer": "ipython3",
   "version": "3.9.21"
  }
 },
 "nbformat": 4,
 "nbformat_minor": 2
}
