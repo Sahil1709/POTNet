{
 "cells": [
  {
   "cell_type": "code",
   "execution_count": 1,
   "metadata": {},
   "outputs": [],
   "source": [
    "import pandas as pd\n",
    "from utils.helpers import train_and_evaluate_model"
   ]
  },
  {
   "cell_type": "code",
   "execution_count": 2,
   "metadata": {},
   "outputs": [
    {
     "data": {
      "text/plain": [
       "downloads_category\n",
       "Very Low    867712\n",
       "Mid         308881\n",
       "High        286800\n",
       "Low         271634\n",
       "Name: count, dtype: int64"
      ]
     },
     "execution_count": 2,
     "metadata": {},
     "output_type": "execute_result"
    }
   ],
   "source": [
    "df = pd.read_csv('data/generated_data/hf_11_24_generated.csv')\n",
    "df.downloads_category.value_counts()"
   ]
  },
  {
   "cell_type": "code",
   "execution_count": 3,
   "metadata": {},
   "outputs": [
    {
     "name": "stdout",
     "output_type": "stream",
     "text": [
      "<class 'pandas.core.frame.DataFrame'>\n",
      "RangeIndex: 1735027 entries, 0 to 1735026\n",
      "Data columns (total 5 columns):\n",
      " #   Column              Dtype \n",
      "---  ------              ----- \n",
      " 0   task_group          object\n",
      " 1   author_category     object\n",
      " 2   language_category   object\n",
      " 3   downloads_category  object\n",
      " 4   location            object\n",
      "dtypes: object(5)\n",
      "memory usage: 66.2+ MB\n"
     ]
    }
   ],
   "source": [
    "df.info()"
   ]
  },
  {
   "cell_type": "code",
   "execution_count": 3,
   "metadata": {},
   "outputs": [],
   "source": [
    "features = ['task_group', 'author_category', 'language_category', 'location']\n",
    "target = 'downloads_category'"
   ]
  },
  {
   "cell_type": "code",
   "execution_count": null,
   "metadata": {},
   "outputs": [
    {
     "name": "stdout",
     "output_type": "stream",
     "text": [
      "Accuracy: 0.6329\n",
      "Precision: 0.6329\n",
      "Recall: 0.6329\n",
      "Micro Average F1 Score: 0.6329\n",
      "Macro Average F1 Score: 0.5540\n",
      "Training Time: 20.15 seconds\n",
      "Testing Time: 0.28 seconds\n"
     ]
    }
   ],
   "source": [
    "train_and_evaluate_model(df, features, target, \"logistic\")"
   ]
  },
  {
   "cell_type": "code",
   "execution_count": 5,
   "metadata": {},
   "outputs": [
    {
     "name": "stdout",
     "output_type": "stream",
     "text": [
      "Accuracy: 0.6347\n",
      "Precision: 0.6347\n",
      "Recall: 0.6347\n",
      "Micro Average F1 Score: 0.6347\n",
      "Macro Average F1 Score: 0.5547\n",
      "Training Time: 90.73 seconds\n",
      "Testing Time: 1.90 seconds\n"
     ]
    }
   ],
   "source": [
    "train_and_evaluate_model(df, features, target, \"random_forest\")"
   ]
  },
  {
   "cell_type": "code",
   "execution_count": null,
   "metadata": {},
   "outputs": [
    {
     "data": {
      "text/plain": [
       "downloads_category\n",
       "Low         271634\n",
       "High        271634\n",
       "Mid         271634\n",
       "Very Low    271629\n",
       "Name: count, dtype: int64"
      ]
     },
     "execution_count": 4,
     "metadata": {},
     "output_type": "execute_result"
    }
   ],
   "source": [
    "df = pd.read_csv('data/generated_data/hf_11_24_balanced.csv')\n",
    "df.downloads_category.value_counts()"
   ]
  },
  {
   "cell_type": "code",
   "execution_count": 5,
   "metadata": {},
   "outputs": [
    {
     "name": "stdout",
     "output_type": "stream",
     "text": [
      "Accuracy: 0.5785\n",
      "Precision: 0.5785\n",
      "Recall: 0.5785\n",
      "Micro Average F1 Score: 0.5785\n",
      "Macro Average F1 Score: 0.5753\n",
      "Training Time: 13.35 seconds\n",
      "Testing Time: 0.18 seconds\n",
      "Accuracy: 0.5790\n",
      "Precision: 0.5790\n",
      "Recall: 0.5790\n",
      "Micro Average F1 Score: 0.5790\n",
      "Macro Average F1 Score: 0.5698\n",
      "Training Time: 71.29 seconds\n",
      "Testing Time: 1.30 seconds\n"
     ]
    }
   ],
   "source": [
    "train_and_evaluate_model(df, features, target, \"logistic\")\n",
    "train_and_evaluate_model(df, features, target, \"random_forest\")"
   ]
  },
  {
   "cell_type": "code",
   "execution_count": null,
   "metadata": {},
   "outputs": [],
   "source": []
  }
 ],
 "metadata": {
  "kernelspec": {
   "display_name": "potnet",
   "language": "python",
   "name": "python3"
  },
  "language_info": {
   "codemirror_mode": {
    "name": "ipython",
    "version": 3
   },
   "file_extension": ".py",
   "mimetype": "text/x-python",
   "name": "python",
   "nbconvert_exporter": "python",
   "pygments_lexer": "ipython3",
   "version": "3.9.21"
  }
 },
 "nbformat": 4,
 "nbformat_minor": 2
}
